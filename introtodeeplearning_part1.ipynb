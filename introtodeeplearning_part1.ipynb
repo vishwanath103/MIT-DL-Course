{
  "nbformat": 4,
  "nbformat_minor": 0,
  "metadata": {
    "colab": {
      "name": "introtodeeplearning_part1.ipynb",
      "provenance": [],
      "collapsed_sections": [],
      "authorship_tag": "ABX9TyPzEkTUo013j/N7z2JxZVhz",
      "include_colab_link": true
    },
    "kernelspec": {
      "name": "python3",
      "display_name": "Python 3"
    }
  },
  "cells": [
    {
      "cell_type": "markdown",
      "metadata": {
        "id": "view-in-github",
        "colab_type": "text"
      },
      "source": [
        "<a href=\"https://colab.research.google.com/github/vishwanath103/MIT-DL-Course/blob/main/introtodeeplearning_part1.ipynb\" target=\"_parent\"><img src=\"https://colab.research.google.com/assets/colab-badge.svg\" alt=\"Open In Colab\"/></a>"
      ]
    },
    {
      "cell_type": "code",
      "metadata": {
        "id": "K14hiXfNmodt"
      },
      "source": [
        "import tensorflow as tf\r\n",
        "#!pip install mitdeeplearning\r\n",
        "import mitdeeplearning as mdl\r\n",
        "\r\n",
        "import numpy as np\r\n",
        "import matplotlib.pyplot as plt"
      ],
      "execution_count": 5,
      "outputs": []
    },
    {
      "cell_type": "code",
      "metadata": {
        "colab": {
          "base_uri": "https://localhost:8080/"
        },
        "id": "kOZ5MGLamz7W",
        "outputId": "65dd0c53-3ce1-48d6-b74f-ccd1cdf6656a"
      },
      "source": [
        "sport = tf.constant(\"Tennis\", tf.string)\r\n",
        "number = tf.constant(1.41421356, tf.float64)\r\n",
        "\r\n",
        "print(\"'sport' is a {}-d tensor\".format(tf.rank(sport).numpy()))\r\n",
        "print(\"'number' is a {}-d tensor\".format(tf.rank(number).numpy()))"
      ],
      "execution_count": 7,
      "outputs": [
        {
          "output_type": "stream",
          "text": [
            "'sport' is a 0-d tensor\n",
            "'number' is a 0-d tensor\n"
          ],
          "name": "stdout"
        }
      ]
    },
    {
      "cell_type": "code",
      "metadata": {
        "colab": {
          "base_uri": "https://localhost:8080/"
        },
        "id": "J0DoWhpRn6Y6",
        "outputId": "064a8a12-1cec-4b37-9dfe-c02a28e9fd09"
      },
      "source": [
        "sports = tf.constant([\"Tennis\", \"Basketball\"], tf.string)\r\n",
        "numbers = tf.constant([3.1415, 1.4142, 8.9], tf.float64)\r\n",
        "\r\n",
        "print(\"'sports is a {}-d Tensor with shape: {}\".format(tf.rank(sports).numpy(), tf.shape(sports)))\r\n",
        "print(\"'numbers is a {}-d Tensor with shape: {}\".format(tf.rank(numbers).numpy(), tf.shape(numbers)))"
      ],
      "execution_count": 9,
      "outputs": [
        {
          "output_type": "stream",
          "text": [
            "'sports is a 1-d Tensor with shape: [2]\n",
            "'numbers is a 1-d Tensor with shape: [3]\n"
          ],
          "name": "stdout"
        }
      ]
    },
    {
      "cell_type": "code",
      "metadata": {
        "id": "XKswiaF7orvr"
      },
      "source": [
        "matrix = tf.constant([[1,2,3],[5,6,7]], tf.float64)\r\n",
        "\r\n",
        "assert isinstance(matrix, tf.Tensor)\r\n",
        "assert tf.rank(matrix).numpy() == 2"
      ],
      "execution_count": 10,
      "outputs": []
    },
    {
      "cell_type": "code",
      "metadata": {
        "id": "rd7pjmgNpQs4"
      },
      "source": [
        "images = tf.zeros([10,256,256,3], tf.int32)\r\n",
        "\r\n",
        "assert isinstance(images, tf.Tensor)\r\n",
        "assert tf.rank(images).numpy() == 4\r\n",
        "assert tf.shape(images).numpy().tolist() == [10,256,256,3]"
      ],
      "execution_count": 11,
      "outputs": []
    },
    {
      "cell_type": "markdown",
      "metadata": {
        "id": "oFmRZQFcrgmj"
      },
      "source": [
        "## Computations on Tensors"
      ]
    },
    {
      "cell_type": "code",
      "metadata": {
        "colab": {
          "base_uri": "https://localhost:8080/"
        },
        "id": "V5VxNaiBp8I_",
        "outputId": "0616b92c-6073-478d-8111-6f3a337c0206"
      },
      "source": [
        "a = tf.constant(15)\r\n",
        "b = tf.constant(64)\r\n",
        "\r\n",
        "c1 = a+b\r\n",
        "c2 = tf.add(a,b)\r\n",
        "print(c1)\r\n",
        "print(c2)"
      ],
      "execution_count": 12,
      "outputs": [
        {
          "output_type": "stream",
          "text": [
            "tf.Tensor(79, shape=(), dtype=int32)\n",
            "tf.Tensor(79, shape=(), dtype=int32)\n"
          ],
          "name": "stdout"
        }
      ]
    },
    {
      "cell_type": "code",
      "metadata": {
        "id": "_PUgrHqormrO"
      },
      "source": [
        "def func(a,b):\r\n",
        "  c = tf.add(a,b)\r\n",
        "  d = tf.subtract(b,1)\r\n",
        "  e = tf.multiply(c,d)\r\n",
        "  return e"
      ],
      "execution_count": 13,
      "outputs": []
    },
    {
      "cell_type": "code",
      "metadata": {
        "colab": {
          "base_uri": "https://localhost:8080/"
        },
        "id": "cHFaaVX-seDW",
        "outputId": "466f5181-fed7-43d7-cf45-56354f757f08"
      },
      "source": [
        "a,b = 1.5,2.5\r\n",
        "e_out = func(a,b)\r\n",
        "print(e_out)"
      ],
      "execution_count": 14,
      "outputs": [
        {
          "output_type": "stream",
          "text": [
            "tf.Tensor(6.0, shape=(), dtype=float32)\n"
          ],
          "name": "stdout"
        }
      ]
    },
    {
      "cell_type": "markdown",
      "metadata": {
        "id": "RLn5yI2CtU3d"
      },
      "source": [
        "## Neural networks in Tensorflow"
      ]
    },
    {
      "cell_type": "code",
      "metadata": {
        "colab": {
          "base_uri": "https://localhost:8080/"
        },
        "id": "c7oRrVS3skwF",
        "outputId": "78343d2a-5919-4b02-ea2e-4a525ca1cbe4"
      },
      "source": [
        "class OurDenseLayer(tf.keras.layers.Layer):\r\n",
        "  def __init__(self, n_output_nodes):\r\n",
        "    super(OurDenseLayer, self).__init__()\r\n",
        "    self.n_output_nodes = n_output_nodes\r\n",
        "\r\n",
        "  def build(self, input_shape):\r\n",
        "    d = int(input_shape[-1])\r\n",
        "    self.W = self.add_weight(\"weight\",shape=[d, self.n_output_nodes])\r\n",
        "    self.b = self.add_weight(\"bias\", shape=[1, self.n_output_nodes])\r\n",
        "\r\n",
        "  def call(self,x):\r\n",
        "    z = tf.add(tf.matmul(x,self.W),self.b)\r\n",
        "    y = tf.sigmoid(z)\r\n",
        "    return y\r\n",
        "\r\n",
        "tf.random.set_seed(1)\r\n",
        "layer = OurDenseLayer(3)\r\n",
        "layer.build((1,2))\r\n",
        "x_input = tf.constant([[1,2.]], shape=(1,2))\r\n",
        "y = layer.call(x_input)\r\n",
        "\r\n",
        "print(y.numpy())\r\n",
        "mdl.lab1.test_custom_dense_layer_output(y)"
      ],
      "execution_count": 20,
      "outputs": [
        {
          "output_type": "stream",
          "text": [
            "[[0.26978594 0.45750415 0.66536945]]\n",
            "[PASS] test_custom_dense_layer_output\n"
          ],
          "name": "stdout"
        },
        {
          "output_type": "execute_result",
          "data": {
            "text/plain": [
              "True"
            ]
          },
          "metadata": {
            "tags": []
          },
          "execution_count": 20
        }
      ]
    },
    {
      "cell_type": "code",
      "metadata": {
        "id": "YoyDhltMv9O8"
      },
      "source": [
        "from tensorflow.keras import Sequential\r\n",
        "from tensorflow.keras.layers import Dense\r\n",
        "\r\n",
        "n_output_nodes = 3\r\n",
        "\r\n",
        "model = Sequential()\r\n",
        "\r\n",
        "dense_layer = Dense(n_output_nodes, activation='sigmoid')\r\n",
        "model.add(dense_layer)"
      ],
      "execution_count": 21,
      "outputs": []
    },
    {
      "cell_type": "code",
      "metadata": {
        "colab": {
          "base_uri": "https://localhost:8080/"
        },
        "id": "k2UrRFPu-pBY",
        "outputId": "bf0730b6-3f06-4cf7-dc9e-9a4134b3266b"
      },
      "source": [
        "x_input = tf.constant([[1,2.]], shape=(1,2))\r\n",
        "\r\n",
        "model_output = model(x_input).numpy()\r\n",
        "print(model_output)"
      ],
      "execution_count": 24,
      "outputs": [
        {
          "output_type": "stream",
          "text": [
            "[[ 0.24415088  0.6485772  -1.9461871 ]]\n"
          ],
          "name": "stdout"
        }
      ]
    },
    {
      "cell_type": "code",
      "metadata": {
        "id": "gqZqDslF_olc"
      },
      "source": [
        "# Defining a model using subclassing\r\n",
        "from tensorflow.keras import Model\r\n",
        "from tensorflow.keras.layers import Dense\r\n",
        "\r\n",
        "class SubClassModel(tf.keras.Model):\r\n",
        "  def __init__(self, n_output_nodes):\r\n",
        "    super(SubClassModel, self).__init__()\r\n",
        "    self.dense_layer = Dense(n_output_nodes, activation='sigmoid')\r\n",
        "\r\n",
        "  def call(self, inputs):\r\n",
        "    return self.dense_layer(inputs)"
      ],
      "execution_count": 25,
      "outputs": []
    },
    {
      "cell_type": "code",
      "metadata": {
        "colab": {
          "base_uri": "https://localhost:8080/"
        },
        "id": "EK6tVnQZNVKF",
        "outputId": "40b82370-949b-4c47-efce-470d8fa15173"
      },
      "source": [
        "n_output_nodes = 3\r\n",
        "model = SubClassModel(n_output_nodes)\r\n",
        "\r\n",
        "x_input = tf.constant([[1,2.]], shape=(1,2))\r\n",
        "print(model.call(x_input))"
      ],
      "execution_count": 27,
      "outputs": [
        {
          "output_type": "stream",
          "text": [
            "tf.Tensor([[0.6504886  0.4782816  0.83736604]], shape=(1, 3), dtype=float32)\n"
          ],
          "name": "stdout"
        }
      ]
    },
    {
      "cell_type": "code",
      "metadata": {
        "id": "mdqgtKRVNn0R"
      },
      "source": [
        "from tensorflow.keras import Model\r\n",
        "from tensorflow.keras.layers import Dense\r\n",
        "\r\n",
        "class IdentityModel(tf.keras.Model):\r\n",
        "  def __init__(self, n_output_nodes):\r\n",
        "    super(IdentityModel, self).__init__()\r\n",
        "    self.dense_layer = Dense(n_output_nodes, activation='sigmoid')\r\n",
        "\r\n",
        "  def call(self, inputs, isidentity=False):\r\n",
        "    x = self.dense_layer(inputs)\r\n",
        "    if isidentity:\r\n",
        "      return inputs\r\n",
        "    return x"
      ],
      "execution_count": 28,
      "outputs": []
    },
    {
      "cell_type": "code",
      "metadata": {
        "colab": {
          "base_uri": "https://localhost:8080/"
        },
        "id": "rDOBjNqQO5Wc",
        "outputId": "5d739b98-5c92-4ce5-86f1-ee3d238ccd6d"
      },
      "source": [
        "n_output_nodes = 3\r\n",
        "model = IdentityModel(n_output_nodes)\r\n",
        "\r\n",
        "x_input = tf.constant([[1,2.]], shape=(1,2))\r\n",
        "out_activate = model.call(x_input)\r\n",
        "out_identity = model.call(x_input, isidentity=True)\r\n",
        "\r\n",
        "print(f\"Network output with activatio: {out_activate}; network identity output: {out_identity}\")"
      ],
      "execution_count": 29,
      "outputs": [
        {
          "output_type": "stream",
          "text": [
            "Network output with activatio: [[0.29996255 0.62776643 0.48460072]]; network identity output: [[1. 2.]]\n"
          ],
          "name": "stdout"
        }
      ]
    },
    {
      "cell_type": "markdown",
      "metadata": {
        "id": "N_U1qyFYPt-B"
      },
      "source": [
        "## Automatic differentiation in Tensorflow"
      ]
    },
    {
      "cell_type": "code",
      "metadata": {
        "id": "4WaymNa0Pk3k"
      },
      "source": [
        "x = tf.Variable(3.0)\r\n",
        "\r\n",
        "with tf.GradientTape() as tape:\r\n",
        "  y = x * x\r\n",
        "\r\n",
        "dy_dx = tape.gradient(y,x)\r\n",
        "\r\n",
        "assert dy_dx.numpy() == 6.0"
      ],
      "execution_count": 33,
      "outputs": []
    },
    {
      "cell_type": "code",
      "metadata": {
        "colab": {
          "base_uri": "https://localhost:8080/",
          "height": 313
        },
        "id": "Pl3eO4S3QboX",
        "outputId": "202b4d33-dbf7-42a8-cbe4-8bfd60cc4fa5"
      },
      "source": [
        "### Function minimization with automatic differentiation and SGD\r\n",
        "\r\n",
        "x = tf.Variable([tf.random.normal([1])])\r\n",
        "print(f\"Initializing x={x.numpy()}\")\r\n",
        "\r\n",
        "learning_rate = 1e-2\r\n",
        "history = []\r\n",
        "x_f = 4\r\n",
        "\r\n",
        "for i in range(500):\r\n",
        "  with tf.GradientTape() as tape:\r\n",
        "    loss = (x-x_f) ** 2\r\n",
        "\r\n",
        "  grad = tape.gradient(loss, x)\r\n",
        "  new_x = x - learning_rate*grad\r\n",
        "  x.assign(new_x)\r\n",
        "  history.append(x.numpy()[0])\r\n",
        "\r\n",
        "plt.plot(history)\r\n",
        "plt.plot([0,500],[x_f,x_f])\r\n",
        "plt.legend(('Predicted','True'))\r\n",
        "plt.xlabel('Iteration')\r\n",
        "plt.ylabel('x value')\r\n"
      ],
      "execution_count": 34,
      "outputs": [
        {
          "output_type": "stream",
          "text": [
            "Initializing x=[[-1.1771783]]\n"
          ],
          "name": "stdout"
        },
        {
          "output_type": "execute_result",
          "data": {
            "text/plain": [
              "Text(0, 0.5, 'x value')"
            ]
          },
          "metadata": {
            "tags": []
          },
          "execution_count": 34
        },
        {
          "output_type": "display_data",
          "data": {
            "image/png": "[encoded data removed]",
            "text/plain": [
              "<Figure size 432x288 with 1 Axes>"
            ]
          },
          "metadata": {
            "tags": [],
            "needs_background": "light"
          }
        }
      ]
    },
    {
      "cell_type": "code",
      "metadata": {
        "id": "zrKn7LwES2oX"
      },
      "source": [
        ""
      ],
      "execution_count": null,
      "outputs": []
    }
  ]
}